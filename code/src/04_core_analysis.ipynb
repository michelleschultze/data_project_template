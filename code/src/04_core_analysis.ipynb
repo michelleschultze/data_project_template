{
 "cells": [
  {
   "cell_type": "markdown",
   "metadata": {},
   "source": [
    "# **04: Core analysis [rename as necessary]**\n",
    "\n",
    "**Description:** This file conduct (or at least begins) the core analysis of the research project, using data in the \"data/processed\" folder.\n",
    "\n",
    "### Input files:\n",
    "- [...] — [Description]\n",
    "- [...] — [Description]\n",
    "\n",
    "### Output files:\n",
    "- [...] — [Description]\n",
    "- [...] — [Description]\n",
    "\n",
    "## **Additional notes:**\n",
    "- \n",
    "- "
   ]
  }
 ],
 "metadata": {
  "language_info": {
   "name": "python"
  }
 },
 "nbformat": 4,
 "nbformat_minor": 2
}
