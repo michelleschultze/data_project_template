{
 "cells": [
  {
   "cell_type": "markdown",
   "metadata": {},
   "source": [
    "# **01: Gathering Data**\n",
    "\n",
    "**Description:** This script imports or scrapes data and outputs it into the \"data/raw\" folder. \n",
    "\n",
    "### Input files:\n",
    "- [...] — [Description]\n",
    "- [...] — [Description]\n",
    "\n",
    "### Output files:\n",
    "- [...] — [Description]\n",
    "- [...] — [Description]\n",
    "\n",
    "## **Additional notes:**\n",
    "- There may be other files in the \"data/raw\" folder that are not output from this script. These were downloaded from particular websites instead of being imported or scraped. Their origin is described in the README.md in the \"data/raw\" folder. \n",
    "- "
   ]
  }
 ],
 "metadata": {
  "language_info": {
   "name": "python"
  }
 },
 "nbformat": 4,
 "nbformat_minor": 2
}
