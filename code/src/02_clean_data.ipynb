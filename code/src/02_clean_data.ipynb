{
 "cells": [
  {
   "cell_type": "markdown",
   "metadata": {},
   "source": [
    "# **02: Cleaning Data**\n",
    "\n",
    "**Description:** This file cleans the data in the \"data/raw\" folder and outputs it into the \"data/processed\" folder.\n",
    "\n",
    "### Input files:\n",
    "- [...] — [Description]\n",
    "- [...] — [Description]\n",
    "\n",
    "### Output files:\n",
    "- [...] — [Description]\n",
    "- [...] — [Description]\n",
    "\n",
    "## **Additional notes:**\n",
    "- \n",
    "- "
   ]
  }
 ],
 "metadata": {
  "language_info": {
   "name": "python"
  }
 },
 "nbformat": 4,
 "nbformat_minor": 2
}
